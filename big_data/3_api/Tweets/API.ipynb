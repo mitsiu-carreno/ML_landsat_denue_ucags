{
 "cells": [
  {
   "cell_type": "code",
   "execution_count": 1,
   "metadata": {},
   "outputs": [],
   "source": [
    "import pandas as pd\n",
    "from flask import Flask, request, jsonify\n",
    "import threading\n",
    "from flask_cors import CORS\n",
    "import requests\n",
    "import glob"
   ]
  },
  {
   "cell_type": "code",
   "execution_count": 2,
   "metadata": {},
   "outputs": [
    {
     "data": {
      "text/plain": [
       "\" combined_df['estado_homologado'] = combined_df['estado'].replace({\\n    'Estado de Mexico': 'Mexico',\\n    'CDMX': 'Ciudad de Mexico',\\n    'Ciudad de Mexico': 'Ciudad de Mexico',\\n    'Distrito': 'Ciudad de Mexico'\\n}) \""
      ]
     },
     "execution_count": 2,
     "metadata": {},
     "output_type": "execute_result"
    }
   ],
   "source": [
    "# Combinar los archivos CSV\n",
    "file_list = glob.glob('conteos_por_estado*.csv')\n",
    "dfs = [pd.read_csv(file) for file in file_list]\n",
    "combined_df = pd.concat(dfs, ignore_index=True)\n",
    "dfs = []\n",
    "\n",
    "for file in file_list:\n",
    "    df = pd.read_csv(file)\n",
    "        \n",
    "    # Homologar los nombres de los estados\n",
    "    df['Ciudad de Mexico'] = df.get('CDMX', 0) + df.get('Ciudad de Mexico', 0) + df.get('Distrito', 0)\n",
    "    df['Mexico'] = df.get('Estado de Mexico', 0) + df.get('Mexico', 0)\n",
    "\n",
    "     # Seleccionar solo las columnas relevantes\n",
    "    df = df[['mes_año', 'Ciudad de Mexico', 'Mexico']]\n",
    "\n",
    "    dfs.append(df)\n",
    "\n",
    "# Combinar todos los dataframes\n",
    "combined_df = pd.concat(dfs, ignore_index=True)\n",
    "\n",
    "# Homologar los nombres de los estados\n",
    "\"\"\" combined_df['estado_homologado'] = combined_df['estado'].replace({\n",
    "    'Estado de Mexico': 'Mexico',\n",
    "    'CDMX': 'Ciudad de Mexico',\n",
    "    'Ciudad de Mexico': 'Ciudad de Mexico',\n",
    "    'Distrito': 'Ciudad de Mexico'\n",
    "}) \"\"\"\n",
    "\n",
    "# Guardar el dataframe combinado y homologado\n",
    "#combined_df.to_csv('mensajes_limpios.csv', index=False)\n"
   ]
  },
  {
   "cell_type": "code",
   "execution_count": 3,
   "metadata": {},
   "outputs": [],
   "source": [
    "homologacion_estados = {\n",
    "    'estado de mexico': 'mexico',\n",
    "    'méxico': 'mexico',\n",
    "    'estado de méxico': 'mexico',\n",
    "    'cdmx': 'ciudad de mexico',\n",
    "    'distrito': 'ciudad de mexico',\n",
    "    'distrito federal': 'ciudad de mexico',\n",
    "    'ciudad de méxico': 'ciudad de mexico'\n",
    "}"
   ]
  },
  {
   "cell_type": "code",
   "execution_count": 4,
   "metadata": {},
   "outputs": [],
   "source": [
    "# Función para cargar y homologar estados\n",
    "def cargar_y_homologar_archivos(file_list, homologacion_estados):\n",
    "    dfs = []\n",
    "\n",
    "    for file in file_list:\n",
    "        df = pd.read_csv(file)\n",
    "        # Normalizar los nombres de las columnas a minúsculas\n",
    "        df.columns = [col.lower() for col in df.columns]\n",
    "        \n",
    "        # Homologar los nombres de los estados\n",
    "        for original, homologado in homologacion_estados.items():\n",
    "            if original in df.columns:\n",
    "                if homologado in df.columns:\n",
    "                    df[homologado] = df[homologado].fillna(0) + df[original].fillna(0)\n",
    "                else:\n",
    "                    df[homologado] = df[original].fillna(0)\n",
    "                df.drop(columns=[original], inplace=True)\n",
    "\n",
    "        dfs.append(df)\n",
    "\n",
    "    # Combinar todos los dataframes\n",
    "    combined_df = pd.concat(dfs, ignore_index=True)\n",
    "\n",
    "    # Unir las columnas de estado en una sola columna 'estado' y sumar la cantidad de mensajes\n",
    "    estado_cols = combined_df.columns.difference(['mes_año'])\n",
    "    homologado = combined_df.melt(id_vars=['mes_año'], value_vars=estado_cols, var_name='estado', value_name='cantidad_mensajes')\n",
    "\n",
    "    # Convertir la columna 'mes_año' a un formato consistente (año-mes-día) solo si el formato es incorrecto\n",
    "    def convertir_fecha(fecha):\n",
    "        try:\n",
    "            # Intentar convertir el formato incorrecto primero\n",
    "            if len(fecha) == 10 and fecha[2] == '/' and fecha[5] == '/':\n",
    "                fecha_formateada = pd.to_datetime(fecha, format='%d/%m/%Y', errors='coerce')\n",
    "            else:\n",
    "                fecha_formateada = pd.to_datetime(fecha, errors='coerce')\n",
    "            \n",
    "            if pd.isnull(fecha_formateada):\n",
    "                return fecha  # Retorna la fecha original si no puede ser convertida\n",
    "            \n",
    "            return fecha_formateada.strftime('%Y-%m-%d')\n",
    "        except:\n",
    "            return fecha\n",
    "\n",
    "    homologado['mes_año'] = homologado['mes_año'].apply(convertir_fecha)\n",
    "\n",
    "    # Agrupar por fecha y estado homologado\n",
    "    result_df = homologado.groupby(['mes_año', 'estado'])['cantidad_mensajes'].sum().reset_index()\n",
    "\n",
    "    return result_df"
   ]
  },
  {
   "cell_type": "code",
   "execution_count": 5,
   "metadata": {},
   "outputs": [],
   "source": [
    "\n",
    "# Obtener el dataframe combinado y homologado\n",
    "result_df = cargar_y_homologar_archivos(file_list, homologacion_estados)\n"
   ]
  },
  {
   "cell_type": "code",
   "execution_count": 6,
   "metadata": {},
   "outputs": [],
   "source": [
    "df2019 = pd.read_csv(\"conteos_mensuales2019.csv\")\n",
    "df2019[\"estado\"] = df2019[\"estado\"].str.upper().str.replace(\" \", \"\")\n",
    "# Agrupar por fecha y entidad, y sumar los valores\n",
    "df2019 = df2019.groupby([\"year_month\", \"estado\"], as_index=False).sum()\n",
    "# Separar la columna de fecha en año y mes\n",
    "df2019[[\"Año\", \"Mes\"]] = df2019[\"year_month\"].str.split(\"-\", expand=True)\n",
    "\n",
    "# Eliminar la columna original de fecha\n",
    "df2019 = df2019.drop(columns=[\"year_month\"])"
   ]
  },
  {
   "cell_type": "code",
   "execution_count": 7,
   "metadata": {},
   "outputs": [],
   "source": [
    "df2020 = pd.read_csv(\"conteos_mensuales2020.csv\")\n",
    "df2020[\"estado\"] = df2020[\"estado\"].str.upper().str.replace(\" \", \"\")\n",
    "# Agrupar por fecha y entidad, y sumar los valores\n",
    "df2020 = df2020.groupby([\"year_month\", \"estado\"], as_index=False).sum()\n",
    "# Separar la columna de fecha en año y mes\n",
    "df2020[[\"Año\", \"Mes\"]] = df2020[\"year_month\"].str.split(\"-\", expand=True)\n",
    "\n",
    "# Eliminar la columna original de fecha\n",
    "df2020 = df2020.drop(columns=[\"year_month\"])"
   ]
  },
  {
   "cell_type": "code",
   "execution_count": 8,
   "metadata": {},
   "outputs": [],
   "source": [
    "df2021 = pd.read_csv(\"conteos_mensuales_2021.csv\")\n",
    "df2021[\"estado\"] = df2021[\"estado\"].str.upper().str.replace(\" \", \"\")\n",
    "# Agrupar por fecha y entidad, y sumar los valores\n",
    "df2021 = df2021.groupby([\"year_month\", \"estado\"], as_index=False).sum()\n",
    "# Separar la columna de fecha en año y mes\n",
    "df2021[[\"Año\", \"Mes\"]] = df2021[\"year_month\"].str.split(\"-\", expand=True)\n",
    "\n",
    "# Eliminar la columna original de fecha\n",
    "df2021 = df2021.drop(columns=[\"year_month\"])"
   ]
  },
  {
   "cell_type": "code",
   "execution_count": 9,
   "metadata": {},
   "outputs": [],
   "source": [
    "df2022 = pd.read_csv(\"conteos_mensuales_2022.csv\")\n",
    "df2022[\"estado\"] = df2022[\"estado\"].str.upper().str.replace(\" \", \"\")\n",
    "# Agrupar por fecha y entidad, y sumar los valores\n",
    "df2022 = df2022.groupby([\"year_month\", \"estado\"], as_index=False).sum()\n",
    "# Separar la columna de fecha en año y mes\n",
    "df2022[[\"Año\", \"Mes\"]] = df2022[\"year_month\"].str.split(\"-\", expand=True)\n",
    "\n",
    "# Eliminar la columna original de fecha\n",
    "df2022 = df2022.drop(columns=[\"year_month\"])"
   ]
  },
  {
   "cell_type": "code",
   "execution_count": 10,
   "metadata": {},
   "outputs": [
    {
     "data": {
      "text/plain": [
       "<flask_cors.extension.CORS at 0x2e2ac12abd0>"
      ]
     },
     "execution_count": 10,
     "metadata": {},
     "output_type": "execute_result"
    }
   ],
   "source": [
    "app = Flask(__name__)\n",
    "CORS(app)"
   ]
  },
  {
   "cell_type": "code",
   "execution_count": 11,
   "metadata": {},
   "outputs": [],
   "source": [
    "datasets = {\"2019\": df2019, \"2020\": df2020, \"2021\": df2021, \"2022\": df2022}"
   ]
  },
  {
   "cell_type": "code",
   "execution_count": 12,
   "metadata": {},
   "outputs": [],
   "source": [
    "def fetch_holidays(api_key, country, year):\n",
    "    url = \"https://calendarific.com/api/v2/holidays\"\n",
    "    params = {\"api_key\": api_key, \"country\": country, \"year\": year}\n",
    "\n",
    "    response = requests.get(url, params=params)\n",
    "\n",
    "    if response.status_code == 200:\n",
    "        data = response.json()  # Obtener el contenido JSON de la respuesta\n",
    "        holidays = data.get(\"response\", {}).get(\"holidays\", [])\n",
    "        return holidays\n",
    "    else:\n",
    "        print(f\"Error: {response.status_code}\")\n",
    "        return []\n",
    "\n",
    "\n",
    "# Llave API, país y años de ejemplo\n",
    "api_key = \"5Sqyan7wZsyg4nMiQzHKqMSxWq7oGThI\"\n",
    "country = \"MX\"\n",
    "years = [2019, 2020, 2021, 2022]\n",
    "\n",
    "# Obtener los datos de las efemérides para cada año\n",
    "holidays_by_year = {year: fetch_holidays(api_key, country, year) for year in years}"
   ]
  },
  {
   "cell_type": "code",
   "execution_count": 13,
   "metadata": {},
   "outputs": [],
   "source": [
    "# Extraer la información relevante\n",
    "def extract_holiday_info(holidays):\n",
    "    extracted_info = []\n",
    "    for holiday in holidays:\n",
    "        year = holiday['date']['datetime']['year']\n",
    "        month = holiday['date']['datetime']['month']\n",
    "        day = holiday['date']['datetime']['day']\n",
    "        name = holiday['name']\n",
    "        locations = holiday['locations']\n",
    "        extracted_info.append({\n",
    "            'year': year,\n",
    "            'month': month,\n",
    "            'day': day,\n",
    "            'name': name,\n",
    "            'locations': locations\n",
    "        })\n",
    "    return extracted_info\n",
    "\n",
    "# Extraer la información de las efemérides para cada año\n",
    "extracted_holidays_by_year = {year: extract_holiday_info(holidays_by_year[year]) for year in holidays_by_year}"
   ]
  },
  {
   "cell_type": "code",
   "execution_count": 14,
   "metadata": {},
   "outputs": [],
   "source": [
    "# Filtrar las efemérides por año y mes\n",
    "def filter_holidays_by_year_and_month(extracted_holidays_by_year, year, month):\n",
    "    if year not in extracted_holidays_by_year:\n",
    "        return []\n",
    "\n",
    "    return [\n",
    "        holiday\n",
    "        for holiday in extracted_holidays_by_year[year]\n",
    "        if holiday[\"month\"] == month\n",
    "    ]"
   ]
  },
  {
   "cell_type": "code",
   "execution_count": 15,
   "metadata": {},
   "outputs": [],
   "source": [
    "@app.route('/mensajes', methods=['POST'])\n",
    "def get_mensajes():\n",
    "    request_data = request.get_json()\n",
    "    year = request_data.get(\"año\")\n",
    "    month = request_data.get('month')\n",
    "\n",
    "    if not year or not month:\n",
    "        return jsonify({'error': 'Año y mes son requeridos'}), 400\n",
    "\n",
    "    # Formatear el mes y el año\n",
    "    mes_año = f'{year}-{month.zfill(2)}-01' \n",
    "\n",
    "    print(mes_año)\n",
    "    # Filtrar los datos por año y mes\n",
    "    filtered_df = result_df[result_df['mes_año'] == mes_año]\n",
    "\n",
    "    # Convertir el resultado a un diccionario\n",
    "    result = filtered_df.to_dict(orient='records')\n",
    "\n",
    "    return jsonify(result)\n"
   ]
  },
  {
   "cell_type": "code",
   "execution_count": 16,
   "metadata": {},
   "outputs": [],
   "source": [
    "@app.route(\"/get_data_by_year\", methods=[\"POST\"])\n",
    "def get_data_by_year():\n",
    "    request_data = request.get_json()\n",
    "    estado = request_data.get(\"estado\").upper().replace(\" \", \"\")\n",
    "    año = request_data.get(\"año\")\n",
    "\n",
    "    if año not in datasets:\n",
    "        return jsonify({\"error\": \"Año no válido\"}), 400\n",
    "\n",
    "    df = datasets[año]\n",
    "    result = df[df[\"estado\"] == estado]\n",
    "\n",
    "    if result.empty:\n",
    "        return (\n",
    "            jsonify(\n",
    "                {\"error\": \"No se encontraron datos para los parámetros proporcionados\"}\n",
    "            ),\n",
    "            404,\n",
    "        )\n",
    "\n",
    "    result = result.to_dict(orient=\"records\")\n",
    "    return jsonify(result), 200"
   ]
  },
  {
   "cell_type": "code",
   "execution_count": 17,
   "metadata": {},
   "outputs": [],
   "source": [
    "@app.route(\"/get_data\", methods=[\"POST\"])\n",
    "def get_data():\n",
    "    request_data = request.get_json()\n",
    "    estado = request_data.get(\"estado\").upper().replace(\" \", \"\")\n",
    "    mes = int(request_data.get(\"mes\"))\n",
    "    año = int(request_data.get(\"año\"))\n",
    "\n",
    "    if str(año) not in datasets:\n",
    "        return jsonify({\"error\": \"Año no válido\"}), 400\n",
    "\n",
    "    df = datasets[str(año)]\n",
    "    result = df[(df[\"estado\"] == estado) & (df[\"Mes\"] == f\"{mes:02}\")]\n",
    "\n",
    "    if result.empty:\n",
    "        return (\n",
    "            jsonify(\n",
    "                {\"error\": \"No se encontraron datos para los parámetros proporcionados\"}\n",
    "            ),\n",
    "            404,\n",
    "        )\n",
    "\n",
    "    result_data = result.to_dict(orient=\"records\")\n",
    "\n",
    "    # Obtener las festividades para el año y mes solicitados\n",
    "    holidays = filter_holidays_by_year_and_month(extracted_holidays_by_year, año, mes)\n",
    "\n",
    "    response = {\"data\": result_data, \"holidays\": holidays}\n",
    "\n",
    "    return jsonify(response), 200"
   ]
  },
  {
   "cell_type": "code",
   "execution_count": 18,
   "metadata": {},
   "outputs": [],
   "source": [
    "@app.route('/get_holidays_by_year', methods=['POST'])\n",
    "def get_holidays_by_year():\n",
    "    request_data = request.get_json()\n",
    "    año = int(request_data.get('año'))\n",
    "\n",
    "    if año not in extracted_holidays_by_year:\n",
    "        return jsonify({\"error\": \"Año no válido\"}), 400\n",
    "\n",
    "    holidays = extracted_holidays_by_year[año]\n",
    "\n",
    "    if not holidays:\n",
    "        return jsonify({\"error\": \"No se encontraron efemérides para el año proporcionado\"}), 404\n",
    "\n",
    "    return jsonify(holidays), 200"
   ]
  },
  {
   "cell_type": "code",
   "execution_count": null,
   "metadata": {},
   "outputs": [
    {
     "name": "stderr",
     "output_type": "stream",
     "text": [
      "WARNING: This is a development server. Do not use it in a production deployment. Use a production WSGI server instead.\n",
      " * Running on http://127.0.0.1:5000\n",
      "Press CTRL+C to quit\n",
      "127.0.0.1 - - [22/Jun/2024 01:19:44] \"POST /get_data_by_year HTTP/1.1\" 200 -\n",
      "127.0.0.1 - - [22/Jun/2024 01:19:50] \"OPTIONS /mensajes HTTP/1.1\" 200 -\n",
      "127.0.0.1 - - [22/Jun/2024 01:19:50] \"POST /mensajes HTTP/1.1\" 200 -\n"
     ]
    },
    {
     "name": "stdout",
     "output_type": "stream",
     "text": [
      "2019-02-01\n"
     ]
    },
    {
     "name": "stderr",
     "output_type": "stream",
     "text": [
      "127.0.0.1 - - [22/Jun/2024 01:20:44] \"OPTIONS /mensajes HTTP/1.1\" 200 -\n",
      "127.0.0.1 - - [22/Jun/2024 01:20:44] \"POST /mensajes HTTP/1.1\" 200 -\n"
     ]
    },
    {
     "name": "stdout",
     "output_type": "stream",
     "text": [
      "2019-02-01\n"
     ]
    },
    {
     "name": "stderr",
     "output_type": "stream",
     "text": [
      "127.0.0.1 - - [22/Jun/2024 01:22:20] \"OPTIONS /mensajes HTTP/1.1\" 200 -\n",
      "127.0.0.1 - - [22/Jun/2024 01:22:20] \"POST /mensajes HTTP/1.1\" 200 -\n"
     ]
    },
    {
     "name": "stdout",
     "output_type": "stream",
     "text": [
      "2019-02-01\n"
     ]
    },
    {
     "name": "stderr",
     "output_type": "stream",
     "text": [
      "127.0.0.1 - - [22/Jun/2024 01:22:40] \"OPTIONS /mensajes HTTP/1.1\" 200 -\n",
      "127.0.0.1 - - [22/Jun/2024 01:22:40] \"POST /mensajes HTTP/1.1\" 200 -\n"
     ]
    },
    {
     "name": "stdout",
     "output_type": "stream",
     "text": [
      "2019-02-01\n"
     ]
    },
    {
     "name": "stderr",
     "output_type": "stream",
     "text": [
      "127.0.0.1 - - [22/Jun/2024 01:23:00] \"OPTIONS /mensajes HTTP/1.1\" 200 -\n",
      "127.0.0.1 - - [22/Jun/2024 01:23:00] \"POST /mensajes HTTP/1.1\" 200 -\n"
     ]
    },
    {
     "name": "stdout",
     "output_type": "stream",
     "text": [
      "2019-02-01\n"
     ]
    },
    {
     "name": "stderr",
     "output_type": "stream",
     "text": [
      "127.0.0.1 - - [22/Jun/2024 01:23:17] \"OPTIONS /mensajes HTTP/1.1\" 200 -\n",
      "127.0.0.1 - - [22/Jun/2024 01:23:17] \"POST /mensajes HTTP/1.1\" 200 -\n"
     ]
    },
    {
     "name": "stdout",
     "output_type": "stream",
     "text": [
      "2019-02-01\n"
     ]
    },
    {
     "name": "stderr",
     "output_type": "stream",
     "text": [
      "127.0.0.1 - - [22/Jun/2024 01:24:27] \"OPTIONS /mensajes HTTP/1.1\" 200 -\n",
      "127.0.0.1 - - [22/Jun/2024 01:24:27] \"POST /mensajes HTTP/1.1\" 200 -\n"
     ]
    },
    {
     "name": "stdout",
     "output_type": "stream",
     "text": [
      "2019-02-01\n"
     ]
    },
    {
     "name": "stderr",
     "output_type": "stream",
     "text": [
      "127.0.0.1 - - [22/Jun/2024 01:31:27] \"OPTIONS /mensajes HTTP/1.1\" 200 -\n",
      "127.0.0.1 - - [22/Jun/2024 01:31:27] \"POST /mensajes HTTP/1.1\" 200 -\n"
     ]
    },
    {
     "name": "stdout",
     "output_type": "stream",
     "text": [
      "2019-02-01\n"
     ]
    },
    {
     "name": "stderr",
     "output_type": "stream",
     "text": [
      "127.0.0.1 - - [22/Jun/2024 01:38:41] \"OPTIONS /mensajes HTTP/1.1\" 200 -\n",
      "127.0.0.1 - - [22/Jun/2024 01:38:41] \"POST /mensajes HTTP/1.1\" 200 -\n"
     ]
    },
    {
     "name": "stdout",
     "output_type": "stream",
     "text": [
      "2019-02-01\n"
     ]
    },
    {
     "name": "stderr",
     "output_type": "stream",
     "text": [
      "127.0.0.1 - - [22/Jun/2024 01:38:55] \"OPTIONS /mensajes HTTP/1.1\" 200 -\n",
      "127.0.0.1 - - [22/Jun/2024 01:38:55] \"POST /mensajes HTTP/1.1\" 200 -\n"
     ]
    },
    {
     "name": "stdout",
     "output_type": "stream",
     "text": [
      "2019-02-01\n"
     ]
    },
    {
     "name": "stderr",
     "output_type": "stream",
     "text": [
      "127.0.0.1 - - [22/Jun/2024 01:39:54] \"OPTIONS /mensajes HTTP/1.1\" 200 -\n",
      "127.0.0.1 - - [22/Jun/2024 01:39:54] \"POST /mensajes HTTP/1.1\" 200 -\n"
     ]
    },
    {
     "name": "stdout",
     "output_type": "stream",
     "text": [
      "2019-02-01\n"
     ]
    },
    {
     "name": "stderr",
     "output_type": "stream",
     "text": [
      "127.0.0.1 - - [22/Jun/2024 01:40:16] \"OPTIONS /mensajes HTTP/1.1\" 200 -\n",
      "127.0.0.1 - - [22/Jun/2024 01:40:16] \"POST /mensajes HTTP/1.1\" 200 -\n"
     ]
    },
    {
     "name": "stdout",
     "output_type": "stream",
     "text": [
      "2019-02-01\n"
     ]
    },
    {
     "name": "stderr",
     "output_type": "stream",
     "text": [
      "127.0.0.1 - - [22/Jun/2024 01:43:39] \"OPTIONS /mensajes HTTP/1.1\" 200 -\n",
      "127.0.0.1 - - [22/Jun/2024 01:43:39] \"POST /mensajes HTTP/1.1\" 200 -\n"
     ]
    },
    {
     "name": "stdout",
     "output_type": "stream",
     "text": [
      "2019-02-01\n"
     ]
    },
    {
     "name": "stderr",
     "output_type": "stream",
     "text": [
      "127.0.0.1 - - [22/Jun/2024 01:43:43] \"POST /mensajes HTTP/1.1\" 200 -\n"
     ]
    },
    {
     "name": "stdout",
     "output_type": "stream",
     "text": [
      "2019-02-01\n"
     ]
    },
    {
     "name": "stderr",
     "output_type": "stream",
     "text": [
      "127.0.0.1 - - [22/Jun/2024 01:44:03] \"OPTIONS /mensajes HTTP/1.1\" 200 -\n",
      "127.0.0.1 - - [22/Jun/2024 01:44:03] \"POST /mensajes HTTP/1.1\" 200 -\n"
     ]
    },
    {
     "name": "stdout",
     "output_type": "stream",
     "text": [
      "2019-02-01\n"
     ]
    },
    {
     "name": "stderr",
     "output_type": "stream",
     "text": [
      "127.0.0.1 - - [22/Jun/2024 01:44:55] \"OPTIONS /mensajes HTTP/1.1\" 200 -\n",
      "127.0.0.1 - - [22/Jun/2024 01:44:55] \"POST /mensajes HTTP/1.1\" 200 -\n"
     ]
    },
    {
     "name": "stdout",
     "output_type": "stream",
     "text": [
      "2019-02-01\n"
     ]
    },
    {
     "name": "stderr",
     "output_type": "stream",
     "text": [
      "127.0.0.1 - - [22/Jun/2024 01:45:11] \"OPTIONS /mensajes HTTP/1.1\" 200 -\n",
      "127.0.0.1 - - [22/Jun/2024 01:45:11] \"POST /mensajes HTTP/1.1\" 200 -\n"
     ]
    },
    {
     "name": "stdout",
     "output_type": "stream",
     "text": [
      "2019-02-01\n"
     ]
    },
    {
     "name": "stderr",
     "output_type": "stream",
     "text": [
      "127.0.0.1 - - [22/Jun/2024 01:45:51] \"OPTIONS /mensajes HTTP/1.1\" 200 -\n",
      "127.0.0.1 - - [22/Jun/2024 01:45:51] \"POST /mensajes HTTP/1.1\" 200 -\n"
     ]
    },
    {
     "name": "stdout",
     "output_type": "stream",
     "text": [
      "2019-02-01\n"
     ]
    },
    {
     "name": "stderr",
     "output_type": "stream",
     "text": [
      "127.0.0.1 - - [22/Jun/2024 01:46:02] \"OPTIONS /mensajes HTTP/1.1\" 200 -\n",
      "127.0.0.1 - - [22/Jun/2024 01:46:02] \"POST /mensajes HTTP/1.1\" 200 -\n"
     ]
    },
    {
     "name": "stdout",
     "output_type": "stream",
     "text": [
      "2019-02-01\n"
     ]
    },
    {
     "name": "stderr",
     "output_type": "stream",
     "text": [
      "127.0.0.1 - - [22/Jun/2024 01:48:11] \"OPTIONS /mensajes HTTP/1.1\" 200 -\n",
      "127.0.0.1 - - [22/Jun/2024 01:48:11] \"POST /mensajes HTTP/1.1\" 200 -\n"
     ]
    },
    {
     "name": "stdout",
     "output_type": "stream",
     "text": [
      "2019-02-01\n"
     ]
    },
    {
     "name": "stderr",
     "output_type": "stream",
     "text": [
      "127.0.0.1 - - [22/Jun/2024 01:49:29] \"OPTIONS /mensajes HTTP/1.1\" 200 -\n",
      "127.0.0.1 - - [22/Jun/2024 01:49:29] \"POST /mensajes HTTP/1.1\" 200 -\n"
     ]
    },
    {
     "name": "stdout",
     "output_type": "stream",
     "text": [
      "2019-02-01\n"
     ]
    },
    {
     "name": "stderr",
     "output_type": "stream",
     "text": [
      "127.0.0.1 - - [22/Jun/2024 01:51:25] \"OPTIONS /mensajes HTTP/1.1\" 200 -\n",
      "127.0.0.1 - - [22/Jun/2024 01:51:25] \"POST /mensajes HTTP/1.1\" 200 -\n"
     ]
    },
    {
     "name": "stdout",
     "output_type": "stream",
     "text": [
      "2019-02-01\n"
     ]
    },
    {
     "name": "stderr",
     "output_type": "stream",
     "text": [
      "127.0.0.1 - - [22/Jun/2024 01:52:10] \"OPTIONS /mensajes HTTP/1.1\" 200 -\n",
      "127.0.0.1 - - [22/Jun/2024 01:52:10] \"POST /mensajes HTTP/1.1\" 200 -\n"
     ]
    },
    {
     "name": "stdout",
     "output_type": "stream",
     "text": [
      "2019-02-01\n"
     ]
    },
    {
     "name": "stderr",
     "output_type": "stream",
     "text": [
      "127.0.0.1 - - [22/Jun/2024 01:58:55] \"OPTIONS /mensajes HTTP/1.1\" 200 -\n",
      "127.0.0.1 - - [22/Jun/2024 01:58:55] \"POST /mensajes HTTP/1.1\" 200 -\n"
     ]
    },
    {
     "name": "stdout",
     "output_type": "stream",
     "text": [
      "2019-02-01\n"
     ]
    },
    {
     "name": "stderr",
     "output_type": "stream",
     "text": [
      "127.0.0.1 - - [22/Jun/2024 02:02:04] \"OPTIONS /mensajes HTTP/1.1\" 200 -\n",
      "127.0.0.1 - - [22/Jun/2024 02:02:04] \"POST /mensajes HTTP/1.1\" 200 -\n"
     ]
    },
    {
     "name": "stdout",
     "output_type": "stream",
     "text": [
      "2019-02-01\n"
     ]
    },
    {
     "name": "stderr",
     "output_type": "stream",
     "text": [
      "127.0.0.1 - - [22/Jun/2024 02:05:10] \"OPTIONS /mensajes HTTP/1.1\" 200 -\n",
      "127.0.0.1 - - [22/Jun/2024 02:05:10] \"POST /mensajes HTTP/1.1\" 200 -\n"
     ]
    },
    {
     "name": "stdout",
     "output_type": "stream",
     "text": [
      "2019-02-01\n"
     ]
    },
    {
     "name": "stderr",
     "output_type": "stream",
     "text": [
      "127.0.0.1 - - [22/Jun/2024 02:05:30] \"OPTIONS /mensajes HTTP/1.1\" 200 -\n",
      "127.0.0.1 - - [22/Jun/2024 02:05:30] \"POST /mensajes HTTP/1.1\" 200 -\n"
     ]
    },
    {
     "name": "stdout",
     "output_type": "stream",
     "text": [
      "2019-02-01\n"
     ]
    },
    {
     "name": "stderr",
     "output_type": "stream",
     "text": [
      "127.0.0.1 - - [22/Jun/2024 02:07:34] \"OPTIONS /mensajes HTTP/1.1\" 200 -\n",
      "127.0.0.1 - - [22/Jun/2024 02:07:34] \"POST /mensajes HTTP/1.1\" 200 -\n"
     ]
    },
    {
     "name": "stdout",
     "output_type": "stream",
     "text": [
      "2019-02-01\n"
     ]
    },
    {
     "name": "stderr",
     "output_type": "stream",
     "text": [
      "127.0.0.1 - - [22/Jun/2024 02:10:24] \"OPTIONS /mensajes HTTP/1.1\" 200 -\n",
      "127.0.0.1 - - [22/Jun/2024 02:10:24] \"POST /mensajes HTTP/1.1\" 200 -\n"
     ]
    },
    {
     "name": "stdout",
     "output_type": "stream",
     "text": [
      "2019-02-01\n"
     ]
    },
    {
     "name": "stderr",
     "output_type": "stream",
     "text": [
      "127.0.0.1 - - [22/Jun/2024 02:16:27] \"OPTIONS /mensajes HTTP/1.1\" 200 -\n",
      "127.0.0.1 - - [22/Jun/2024 02:16:27] \"POST /mensajes HTTP/1.1\" 200 -\n"
     ]
    },
    {
     "name": "stdout",
     "output_type": "stream",
     "text": [
      "2019-02-01\n"
     ]
    },
    {
     "name": "stderr",
     "output_type": "stream",
     "text": [
      "127.0.0.1 - - [22/Jun/2024 02:16:59] \"OPTIONS /mensajes HTTP/1.1\" 200 -\n",
      "127.0.0.1 - - [22/Jun/2024 02:16:59] \"POST /mensajes HTTP/1.1\" 200 -\n"
     ]
    },
    {
     "name": "stdout",
     "output_type": "stream",
     "text": [
      "2019-02-01\n"
     ]
    },
    {
     "name": "stderr",
     "output_type": "stream",
     "text": [
      "127.0.0.1 - - [22/Jun/2024 02:17:02] \"POST /mensajes HTTP/1.1\" 200 -\n"
     ]
    },
    {
     "name": "stdout",
     "output_type": "stream",
     "text": [
      "2019-02-01\n"
     ]
    },
    {
     "name": "stderr",
     "output_type": "stream",
     "text": [
      "127.0.0.1 - - [22/Jun/2024 02:17:03] \"POST /mensajes HTTP/1.1\" 200 -\n"
     ]
    },
    {
     "name": "stdout",
     "output_type": "stream",
     "text": [
      "2019-02-01\n"
     ]
    },
    {
     "name": "stderr",
     "output_type": "stream",
     "text": [
      "127.0.0.1 - - [22/Jun/2024 02:17:39] \"OPTIONS /mensajes HTTP/1.1\" 200 -\n",
      "127.0.0.1 - - [22/Jun/2024 02:17:39] \"POST /mensajes HTTP/1.1\" 200 -\n"
     ]
    },
    {
     "name": "stdout",
     "output_type": "stream",
     "text": [
      "2019-02-01\n"
     ]
    },
    {
     "name": "stderr",
     "output_type": "stream",
     "text": [
      "127.0.0.1 - - [22/Jun/2024 02:17:54] \"OPTIONS /mensajes HTTP/1.1\" 200 -\n",
      "127.0.0.1 - - [22/Jun/2024 02:17:54] \"POST /mensajes HTTP/1.1\" 200 -\n"
     ]
    },
    {
     "name": "stdout",
     "output_type": "stream",
     "text": [
      "2019-02-01\n"
     ]
    },
    {
     "name": "stderr",
     "output_type": "stream",
     "text": [
      "127.0.0.1 - - [22/Jun/2024 02:18:13] \"OPTIONS /mensajes HTTP/1.1\" 200 -\n",
      "127.0.0.1 - - [22/Jun/2024 02:18:13] \"POST /mensajes HTTP/1.1\" 200 -\n"
     ]
    },
    {
     "name": "stdout",
     "output_type": "stream",
     "text": [
      "2019-02-01\n"
     ]
    },
    {
     "name": "stderr",
     "output_type": "stream",
     "text": [
      "127.0.0.1 - - [22/Jun/2024 02:22:06] \"OPTIONS /mensajes HTTP/1.1\" 200 -\n",
      "127.0.0.1 - - [22/Jun/2024 02:22:06] \"POST /mensajes HTTP/1.1\" 200 -\n"
     ]
    },
    {
     "name": "stdout",
     "output_type": "stream",
     "text": [
      "2019-02-01\n"
     ]
    },
    {
     "name": "stderr",
     "output_type": "stream",
     "text": [
      "127.0.0.1 - - [22/Jun/2024 02:22:09] \"POST /mensajes HTTP/1.1\" 200 -\n"
     ]
    },
    {
     "name": "stdout",
     "output_type": "stream",
     "text": [
      "2019-02-01\n"
     ]
    },
    {
     "name": "stderr",
     "output_type": "stream",
     "text": [
      "127.0.0.1 - - [22/Jun/2024 02:24:41] \"OPTIONS /mensajes HTTP/1.1\" 200 -\n",
      "127.0.0.1 - - [22/Jun/2024 02:24:41] \"POST /mensajes HTTP/1.1\" 200 -\n"
     ]
    },
    {
     "name": "stdout",
     "output_type": "stream",
     "text": [
      "2019-02-01\n"
     ]
    },
    {
     "name": "stderr",
     "output_type": "stream",
     "text": [
      "127.0.0.1 - - [22/Jun/2024 02:25:25] \"OPTIONS /mensajes HTTP/1.1\" 200 -\n",
      "127.0.0.1 - - [22/Jun/2024 02:25:25] \"POST /mensajes HTTP/1.1\" 200 -\n"
     ]
    },
    {
     "name": "stdout",
     "output_type": "stream",
     "text": [
      "2019-02-01\n"
     ]
    },
    {
     "name": "stderr",
     "output_type": "stream",
     "text": [
      "127.0.0.1 - - [22/Jun/2024 02:25:47] \"OPTIONS /mensajes HTTP/1.1\" 200 -\n",
      "127.0.0.1 - - [22/Jun/2024 02:25:47] \"POST /mensajes HTTP/1.1\" 200 -\n"
     ]
    },
    {
     "name": "stdout",
     "output_type": "stream",
     "text": [
      "2021-09-01\n"
     ]
    },
    {
     "name": "stderr",
     "output_type": "stream",
     "text": [
      "127.0.0.1 - - [22/Jun/2024 02:25:51] \"POST /mensajes HTTP/1.1\" 200 -\n"
     ]
    },
    {
     "name": "stdout",
     "output_type": "stream",
     "text": [
      "2021-05-01\n"
     ]
    },
    {
     "name": "stderr",
     "output_type": "stream",
     "text": [
      "127.0.0.1 - - [22/Jun/2024 02:26:01] \"OPTIONS /mensajes HTTP/1.1\" 200 -\n",
      "127.0.0.1 - - [22/Jun/2024 02:26:02] \"POST /mensajes HTTP/1.1\" 200 -\n"
     ]
    },
    {
     "name": "stdout",
     "output_type": "stream",
     "text": [
      "2019-03-01\n"
     ]
    },
    {
     "name": "stderr",
     "output_type": "stream",
     "text": [
      "127.0.0.1 - - [22/Jun/2024 02:26:11] \"OPTIONS /mensajes HTTP/1.1\" 200 -\n",
      "127.0.0.1 - - [22/Jun/2024 02:26:11] \"POST /mensajes HTTP/1.1\" 200 -\n"
     ]
    },
    {
     "name": "stdout",
     "output_type": "stream",
     "text": [
      "2020-03-01\n"
     ]
    },
    {
     "name": "stderr",
     "output_type": "stream",
     "text": [
      "127.0.0.1 - - [22/Jun/2024 02:26:15] \"POST /mensajes HTTP/1.1\" 200 -\n"
     ]
    },
    {
     "name": "stdout",
     "output_type": "stream",
     "text": [
      "2020-01-01\n"
     ]
    },
    {
     "name": "stderr",
     "output_type": "stream",
     "text": [
      "127.0.0.1 - - [22/Jun/2024 02:26:20] \"OPTIONS /mensajes HTTP/1.1\" 200 -\n",
      "127.0.0.1 - - [22/Jun/2024 02:26:20] \"POST /mensajes HTTP/1.1\" 200 -\n"
     ]
    },
    {
     "name": "stdout",
     "output_type": "stream",
     "text": [
      "2020-03-01\n"
     ]
    },
    {
     "name": "stderr",
     "output_type": "stream",
     "text": [
      "127.0.0.1 - - [22/Jun/2024 02:26:41] \"OPTIONS /mensajes HTTP/1.1\" 200 -\n",
      "127.0.0.1 - - [22/Jun/2024 02:26:41] \"POST /mensajes HTTP/1.1\" 200 -\n"
     ]
    },
    {
     "name": "stdout",
     "output_type": "stream",
     "text": [
      "2019-01-01\n"
     ]
    },
    {
     "name": "stderr",
     "output_type": "stream",
     "text": [
      "127.0.0.1 - - [22/Jun/2024 02:27:03] \"OPTIONS /mensajes HTTP/1.1\" 200 -\n",
      "127.0.0.1 - - [22/Jun/2024 02:27:03] \"POST /mensajes HTTP/1.1\" 200 -\n"
     ]
    },
    {
     "name": "stdout",
     "output_type": "stream",
     "text": [
      "2019-03-01\n"
     ]
    },
    {
     "name": "stderr",
     "output_type": "stream",
     "text": [
      "127.0.0.1 - - [22/Jun/2024 02:27:51] \"OPTIONS /mensajes HTTP/1.1\" 200 -\n",
      "127.0.0.1 - - [22/Jun/2024 02:27:51] \"POST /mensajes HTTP/1.1\" 200 -\n"
     ]
    },
    {
     "name": "stdout",
     "output_type": "stream",
     "text": [
      "2019-02-01\n"
     ]
    },
    {
     "name": "stderr",
     "output_type": "stream",
     "text": [
      "127.0.0.1 - - [22/Jun/2024 02:30:21] \"OPTIONS /mensajes HTTP/1.1\" 200 -\n",
      "127.0.0.1 - - [22/Jun/2024 02:30:21] \"POST /mensajes HTTP/1.1\" 200 -\n"
     ]
    },
    {
     "name": "stdout",
     "output_type": "stream",
     "text": [
      "2019-02-01\n"
     ]
    },
    {
     "name": "stderr",
     "output_type": "stream",
     "text": [
      "127.0.0.1 - - [22/Jun/2024 02:30:39] \"OPTIONS /get_data_by_year HTTP/1.1\" 200 -\n",
      "127.0.0.1 - - [22/Jun/2024 02:30:39] \"POST /get_data_by_year HTTP/1.1\" 200 -\n",
      "127.0.0.1 - - [22/Jun/2024 02:30:39] \"OPTIONS /get_holidays_by_year HTTP/1.1\" 200 -\n",
      "127.0.0.1 - - [22/Jun/2024 02:30:39] \"POST /get_holidays_by_year HTTP/1.1\" 200 -\n",
      "127.0.0.1 - - [22/Jun/2024 02:30:57] \"OPTIONS /get_data_by_year HTTP/1.1\" 200 -\n",
      "127.0.0.1 - - [22/Jun/2024 02:30:57] \"POST /get_data_by_year HTTP/1.1\" 200 -\n",
      "127.0.0.1 - - [22/Jun/2024 02:30:57] \"OPTIONS /get_holidays_by_year HTTP/1.1\" 200 -\n",
      "127.0.0.1 - - [22/Jun/2024 02:30:57] \"POST /get_holidays_by_year HTTP/1.1\" 200 -\n",
      "127.0.0.1 - - [22/Jun/2024 02:30:57] \"OPTIONS /mensajes HTTP/1.1\" 200 -\n",
      "127.0.0.1 - - [22/Jun/2024 02:30:57] \"POST /mensajes HTTP/1.1\" 200 -\n"
     ]
    },
    {
     "name": "stdout",
     "output_type": "stream",
     "text": [
      "2019-02-01\n"
     ]
    },
    {
     "name": "stderr",
     "output_type": "stream",
     "text": [
      "127.0.0.1 - - [22/Jun/2024 02:31:02] \"OPTIONS /get_data_by_year HTTP/1.1\" 200 -\n",
      "127.0.0.1 - - [22/Jun/2024 02:31:02] \"POST /get_data_by_year HTTP/1.1\" 200 -\n",
      "127.0.0.1 - - [22/Jun/2024 02:31:02] \"OPTIONS /get_holidays_by_year HTTP/1.1\" 200 -\n",
      "127.0.0.1 - - [22/Jun/2024 02:31:02] \"POST /get_holidays_by_year HTTP/1.1\" 200 -\n",
      "127.0.0.1 - - [22/Jun/2024 02:31:03] \"OPTIONS /mensajes HTTP/1.1\" 200 -\n",
      "127.0.0.1 - - [22/Jun/2024 02:31:03] \"POST /mensajes HTTP/1.1\" 200 -\n"
     ]
    },
    {
     "name": "stdout",
     "output_type": "stream",
     "text": [
      "2019-02-01\n"
     ]
    }
   ],
   "source": [
    "def run_app():\n",
    "    app.run(debug=False, use_reloader=False)\n",
    "\n",
    "\n",
    "# Ejecutar el servidor Flask en un hilo separado\n",
    "threading.Thread(target=run_app).start()"
   ]
  },
  {
   "cell_type": "code",
   "execution_count": null,
   "metadata": {},
   "outputs": [
    {
     "name": "stderr",
     "output_type": "stream",
     "text": [
      "WARNING: This is a development server. Do not use it in a production deployment. Use a production WSGI server instead.\n",
      " * Running on http://127.0.0.1:5000\n",
      "Press CTRL+C to quit\n",
      "127.0.0.1 - - [21/Jun/2024 20:29:01] \"POST /get_data_by_year HTTP/1.1\" 200 -\n",
      "127.0.0.1 - - [21/Jun/2024 20:29:01] \"POST /get_data_by_year HTTP/1.1\" 200 -\n",
      "127.0.0.1 - - [21/Jun/2024 20:29:01] \"POST /get_data HTTP/1.1\" 200 -\n",
      "127.0.0.1 - - [21/Jun/2024 20:29:01] \"POST /mensajes HTTP/1.1\" 200 -\n"
     ]
    },
    {
     "name": "stdout",
     "output_type": "stream",
     "text": [
      "[{'Año': '2019', 'Mes': '01', 'conteo': 341, 'estado': 'CIUDADDEMÉXICO'}, {'Año': '2019', 'Mes': '02', 'conteo': 397, 'estado': 'CIUDADDEMÉXICO'}, {'Año': '2019', 'Mes': '03', 'conteo': 544, 'estado': 'CIUDADDEMÉXICO'}, {'Año': '2019', 'Mes': '04', 'conteo': 400, 'estado': 'CIUDADDEMÉXICO'}, {'Año': '2019', 'Mes': '05', 'conteo': 405, 'estado': 'CIUDADDEMÉXICO'}, {'Año': '2019', 'Mes': '06', 'conteo': 501, 'estado': 'CIUDADDEMÉXICO'}, {'Año': '2019', 'Mes': '07', 'conteo': 618, 'estado': 'CIUDADDEMÉXICO'}, {'Año': '2019', 'Mes': '08', 'conteo': 892, 'estado': 'CIUDADDEMÉXICO'}, {'Año': '2019', 'Mes': '09', 'conteo': 718, 'estado': 'CIUDADDEMÉXICO'}, {'Año': '2019', 'Mes': '10', 'conteo': 771, 'estado': 'CIUDADDEMÉXICO'}, {'Año': '2019', 'Mes': '11', 'conteo': 579, 'estado': 'CIUDADDEMÉXICO'}, {'Año': '2019', 'Mes': '12', 'conteo': 761, 'estado': 'CIUDADDEMÉXICO'}]\n"
     ]
    },
    {
     "name": "stdout",
     "output_type": "stream",
     "text": [
      " * Serving Flask app '__main__'\n"
     ]
    }
   ],
   "source": [
    "import requests\n",
    "import json\n",
    "\n",
    "url = \"http://127.0.0.1:5000/get_data_by_year\"\n",
    "headers = {\"Content-Type\": \"application/json\"}\n",
    "data = {\"estado\": \"Ciudad de México\", \"año\": \"2019\"}\n",
    "\n",
    "response = requests.post(url, headers=headers, data=json.dumps(data))\n",
    "print(response.json())"
   ]
  },
  {
   "cell_type": "code",
   "execution_count": null,
   "metadata": {},
   "outputs": [
    {
     "name": "stdout",
     "output_type": "stream",
     "text": [
      "[{'Año': '2019', 'Mes': '01', 'conteo': 341, 'estado': 'CIUDADDEMÉXICO'}, {'Año': '2019', 'Mes': '02', 'conteo': 397, 'estado': 'CIUDADDEMÉXICO'}, {'Año': '2019', 'Mes': '03', 'conteo': 544, 'estado': 'CIUDADDEMÉXICO'}, {'Año': '2019', 'Mes': '04', 'conteo': 400, 'estado': 'CIUDADDEMÉXICO'}, {'Año': '2019', 'Mes': '05', 'conteo': 405, 'estado': 'CIUDADDEMÉXICO'}, {'Año': '2019', 'Mes': '06', 'conteo': 501, 'estado': 'CIUDADDEMÉXICO'}, {'Año': '2019', 'Mes': '07', 'conteo': 618, 'estado': 'CIUDADDEMÉXICO'}, {'Año': '2019', 'Mes': '08', 'conteo': 892, 'estado': 'CIUDADDEMÉXICO'}, {'Año': '2019', 'Mes': '09', 'conteo': 718, 'estado': 'CIUDADDEMÉXICO'}, {'Año': '2019', 'Mes': '10', 'conteo': 771, 'estado': 'CIUDADDEMÉXICO'}, {'Año': '2019', 'Mes': '11', 'conteo': 579, 'estado': 'CIUDADDEMÉXICO'}, {'Año': '2019', 'Mes': '12', 'conteo': 761, 'estado': 'CIUDADDEMÉXICO'}]\n"
     ]
    }
   ],
   "source": [
    "import requests\n",
    "import json\n",
    "\n",
    "url = \"http://127.0.0.1:5000/get_data_by_year\"\n",
    "headers = {\"Content-Type\": \"application/json\"}\n",
    "data = {\"estado\": \"Ciudad de México\", \"año\": \"2019\"}\n",
    "\n",
    "response = requests.post(url, headers=headers, data=json.dumps(data))\n",
    "print(response.json())"
   ]
  },
  {
   "cell_type": "code",
   "execution_count": null,
   "metadata": {},
   "outputs": [
    {
     "name": "stdout",
     "output_type": "stream",
     "text": [
      "{'data': [{'Año': '2019', 'Mes': '04', 'conteo': 23328, 'estado': 'AGUASCALIENTES'}], 'holidays': [{'day': 14, 'locations': 'All', 'month': 4, 'name': 'Palm Sunday', 'year': 2019}, {'day': 18, 'locations': 'All', 'month': 4, 'name': 'Maundy Thursday', 'year': 2019}, {'day': 19, 'locations': 'All', 'month': 4, 'name': 'Good Friday', 'year': 2019}, {'day': 20, 'locations': 'All', 'month': 4, 'name': 'Holy Saturday', 'year': 2019}, {'day': 21, 'locations': 'All', 'month': 4, 'name': 'Easter Sunday', 'year': 2019}, {'day': 30, 'locations': 'All', 'month': 4, 'name': \"Children's Day\", 'year': 2019}]}\n"
     ]
    }
   ],
   "source": [
    "import requests\n",
    "import json\n",
    "\n",
    "url = \"http://127.0.0.1:5000/get_data\"\n",
    "headers = {\"Content-Type\": \"application/json\"}\n",
    "data = {\"estado\": \"Aguascalientes\", \"año\": \"2019\", \"mes\": \"4\"}\n",
    "\n",
    "response = requests.post(url, headers=headers, data=json.dumps(data))\n",
    "print(response.json())"
   ]
  },
  {
   "cell_type": "code",
   "execution_count": null,
   "metadata": {},
   "outputs": [
    {
     "name": "stdout",
     "output_type": "stream",
     "text": [
      "2019-04-01\n"
     ]
    },
    {
     "name": "stdout",
     "output_type": "stream",
     "text": [
      "[{'cantidad_mensajes': 23328, 'estado': 'aguascalientes', 'mes_año': '2019-04-01'}, {'cantidad_mensajes': 54032, 'estado': 'baja california', 'mes_año': '2019-04-01'}, {'cantidad_mensajes': 19991, 'estado': 'baja california sur', 'mes_año': '2019-04-01'}, {'cantidad_mensajes': 16554, 'estado': 'campeche', 'mes_año': '2019-04-01'}, {'cantidad_mensajes': 30274, 'estado': 'chiapas', 'mes_año': '2019-04-01'}, {'cantidad_mensajes': 35648, 'estado': 'chihuahua', 'mes_año': '2019-04-01'}, {'cantidad_mensajes': 491402, 'estado': 'ciudad de mexico', 'mes_año': '2019-04-01'}, {'cantidad_mensajes': 46967, 'estado': 'coahuila', 'mes_año': '2019-04-01'}, {'cantidad_mensajes': 11025, 'estado': 'colima', 'mes_año': '2019-04-01'}, {'cantidad_mensajes': 18526, 'estado': 'durango', 'mes_año': '2019-04-01'}, {'cantidad_mensajes': 183267, 'estado': 'estado de mexico', 'mes_año': '2019-04-01'}, {'cantidad_mensajes': 72195, 'estado': 'guanajuato', 'mes_año': '2019-04-01'}, {'cantidad_mensajes': 27565, 'estado': 'guerrero', 'mes_año': '2019-04-01'}, {'cantidad_mensajes': 120629, 'estado': 'hidalgo', 'mes_año': '2019-04-01'}, {'cantidad_mensajes': 181773, 'estado': 'jalisco', 'mes_año': '2019-04-01'}, {'cantidad_mensajes': 29120, 'estado': 'michoacán', 'mes_año': '2019-04-01'}, {'cantidad_mensajes': 65045, 'estado': 'morelos', 'mes_año': '2019-04-01'}, {'cantidad_mensajes': 11896, 'estado': 'nayarit', 'mes_año': '2019-04-01'}, {'cantidad_mensajes': 246772, 'estado': 'nuevo león', 'mes_año': '2019-04-01'}, {'cantidad_mensajes': 30003, 'estado': 'oaxaca', 'mes_año': '2019-04-01'}, {'cantidad_mensajes': 106588, 'estado': 'puebla', 'mes_año': '2019-04-01'}, {'cantidad_mensajes': 62378, 'estado': 'querétaro', 'mes_año': '2019-04-01'}, {'cantidad_mensajes': 72931, 'estado': 'quintana roo', 'mes_año': '2019-04-01'}, {'cantidad_mensajes': 35829, 'estado': 'san luis potosí', 'mes_año': '2019-04-01'}, {'cantidad_mensajes': 64145, 'estado': 'sinaloa', 'mes_año': '2019-04-01'}, {'cantidad_mensajes': 82958, 'estado': 'sonora', 'mes_año': '2019-04-01'}, {'cantidad_mensajes': 36337, 'estado': 'tabasco', 'mes_año': '2019-04-01'}, {'cantidad_mensajes': 62882, 'estado': 'tamaulipas', 'mes_año': '2019-04-01'}, {'cantidad_mensajes': 7139, 'estado': 'tlaxcala', 'mes_año': '2019-04-01'}, {'cantidad_mensajes': 96108, 'estado': 'veracruz', 'mes_año': '2019-04-01'}, {'cantidad_mensajes': 67341, 'estado': 'yucatán', 'mes_año': '2019-04-01'}, {'cantidad_mensajes': 14919, 'estado': 'zacatecas', 'mes_año': '2019-04-01'}]\n"
     ]
    }
   ],
   "source": [
    "import requests\n",
    "import json\n",
    "\n",
    "url = \"http://127.0.0.1:5000/mensajes\"\n",
    "headers = {\"Content-Type\": \"application/json\"}\n",
    "data = {\"año\": \"2019\", \"month\": \"04\"}\n",
    "\n",
    "response = requests.post(url, headers=headers, data=json.dumps(data))\n",
    "print(response.json())"
   ]
  }
 ],
 "metadata": {
  "kernelspec": {
   "display_name": "Python 3",
   "language": "python",
   "name": "python3"
  },
  "language_info": {
   "codemirror_mode": {
    "name": "ipython",
    "version": 3
   },
   "file_extension": ".py",
   "mimetype": "text/x-python",
   "name": "python",
   "nbconvert_exporter": "python",
   "pygments_lexer": "ipython3",
   "version": "3.12.3"
  }
 },
 "nbformat": 4,
 "nbformat_minor": 2
}
