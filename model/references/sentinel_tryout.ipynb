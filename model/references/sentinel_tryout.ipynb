{
 "cells": [
  {
   "cell_type": "code",
   "execution_count": null,
   "id": "3ac8bfe9-369f-416d-8c9d-38f0722c50e7",
   "metadata": {},
   "outputs": [],
   "source": [
    "#https://web.archive.org/web/20200917010635/https://medium.com/@mommermiscience/dealing-with-geospatial-raster-data-in-python-with-rasterio-775e5ba0c9f5\n",
    "#https://web.archive.org/web/20210108101658/https://towardsdatascience.com/sentinel-2-image-clustering-in-python-58f7f2c8a7f6?gi=e7128e2cf8b2\n",
    "#https://learn.microsoft.com/en-us/azure/developer/dev-tunnels/get-started?tabs=linux\n",
    "#https://web.archive.org/web/20210108101658/https://towardsdatascience.com/sentinel-2-image-clustering-in-python-58f7f2c8a7f6?gi=e7128e2cf8b2\n",
    "\n",
    "#https://web.archive.org/web/20200917010635/https://medium.com/@mommermiscience/dealing-with-geospatial-raster-data-in-python-with-rasterio-775e5ba0c9f5"
   ]
  },
  {
   "cell_type": "code",
   "execution_count": 1,
   "id": "80820c0c-cc19-4783-b173-f7bf2e0c76d7",
   "metadata": {},
   "outputs": [],
   "source": [
    "import numpy as np\n",
    "import rasterio\n",
    "import pandas as pd\n",
    "\n",
    "from shapely.geometry import Point\n",
    "import geopandas as gpd\n",
    "from pyproj import Proj, Transformer"
   ]
  },
  {
   "cell_type": "code",
   "execution_count": 2,
   "id": "0559ce9f-cdf0-48d0-96b1-b062716213a5",
   "metadata": {},
   "outputs": [
    {
     "name": "stderr",
     "output_type": "stream",
     "text": [
      "/tmp/ipykernel_611/2985616568.py:5: DtypeWarning: Columns (35) have mixed types. Specify dtype option on import or set low_memory=False.\n",
      "  df = pd.read_csv(ruta_denue_csv, encoding=\"latin1\")\n"
     ]
    },
    {
     "data": {
      "text/html": [
       "<div>\n",
       "<style scoped>\n",
       "    .dataframe tbody tr th:only-of-type {\n",
       "        vertical-align: middle;\n",
       "    }\n",
       "\n",
       "    .dataframe tbody tr th {\n",
       "        vertical-align: top;\n",
       "    }\n",
       "\n",
       "    .dataframe thead th {\n",
       "        text-align: right;\n",
       "    }\n",
       "</style>\n",
       "<table border=\"1\" class=\"dataframe\">\n",
       "  <thead>\n",
       "    <tr style=\"text-align: right;\">\n",
       "      <th></th>\n",
       "      <th>id</th>\n",
       "      <th>clee</th>\n",
       "      <th>nom_estab</th>\n",
       "      <th>raz_social</th>\n",
       "      <th>codigo_act</th>\n",
       "      <th>nombre_act</th>\n",
       "      <th>per_ocu</th>\n",
       "      <th>tipo_vial</th>\n",
       "      <th>nom_vial</th>\n",
       "      <th>tipo_v_e_1</th>\n",
       "      <th>...</th>\n",
       "      <th>localidad</th>\n",
       "      <th>ageb</th>\n",
       "      <th>manzana</th>\n",
       "      <th>telefono</th>\n",
       "      <th>correoelec</th>\n",
       "      <th>www</th>\n",
       "      <th>tipoUniEco</th>\n",
       "      <th>latitud</th>\n",
       "      <th>longitud</th>\n",
       "      <th>fecha_alta</th>\n",
       "    </tr>\n",
       "  </thead>\n",
       "  <tbody>\n",
       "    <tr>\n",
       "      <th>0</th>\n",
       "      <td>6862345</td>\n",
       "      <td>01001115119000031001000000U2</td>\n",
       "      <td>AGROPECUARIA CHARCOS DE QUEZADA</td>\n",
       "      <td>AGROPECUARIA CHARCOS DE QUEZADA SOCIEDAD DE PR...</td>\n",
       "      <td>115119</td>\n",
       "      <td>Otros servicios relacionados con la agricultura</td>\n",
       "      <td>6 a 10 personas</td>\n",
       "      <td>AVENIDA</td>\n",
       "      <td>UNIVERSIDAD</td>\n",
       "      <td>CALLE</td>\n",
       "      <td>...</td>\n",
       "      <td>Aguascalientes</td>\n",
       "      <td>0233</td>\n",
       "      <td>9</td>\n",
       "      <td>4492853716</td>\n",
       "      <td>NaN</td>\n",
       "      <td>NaN</td>\n",
       "      <td>Fijo</td>\n",
       "      <td>21.906992</td>\n",
       "      <td>-102.309807</td>\n",
       "      <td>2019-04</td>\n",
       "    </tr>\n",
       "    <tr>\n",
       "      <th>1</th>\n",
       "      <td>6905212</td>\n",
       "      <td>01001115119000041000000000U1</td>\n",
       "      <td>AGROPECUARIO LOS ALAMITOS</td>\n",
       "      <td>NaN</td>\n",
       "      <td>115119</td>\n",
       "      <td>Otros servicios relacionados con la agricultura</td>\n",
       "      <td>0 a 5 personas</td>\n",
       "      <td>CALLE</td>\n",
       "      <td>J. ENCARNACION PAYEN</td>\n",
       "      <td>CALLE</td>\n",
       "      <td>...</td>\n",
       "      <td>Aguascalientes</td>\n",
       "      <td>0322</td>\n",
       "      <td>18</td>\n",
       "      <td>4499960472</td>\n",
       "      <td>NaN</td>\n",
       "      <td>NaN</td>\n",
       "      <td>Fijo</td>\n",
       "      <td>21.889926</td>\n",
       "      <td>-102.314009</td>\n",
       "      <td>2019-11</td>\n",
       "    </tr>\n",
       "    <tr>\n",
       "      <th>2</th>\n",
       "      <td>6166248</td>\n",
       "      <td>01007112512000012001000000U8</td>\n",
       "      <td>CENTRO ACUÍCOLA PABELLON DE HIDALGO</td>\n",
       "      <td>SAGARPA</td>\n",
       "      <td>112512</td>\n",
       "      <td>Piscicultura y otra acuicultura, excepto camar...</td>\n",
       "      <td>0 a 5 personas</td>\n",
       "      <td>CALLE</td>\n",
       "      <td>NINGUNO</td>\n",
       "      <td>CALLE</td>\n",
       "      <td>...</td>\n",
       "      <td>SEMARNAT [Centro Acuícola]</td>\n",
       "      <td>0078</td>\n",
       "      <td>800</td>\n",
       "      <td>NaN</td>\n",
       "      <td>NaN</td>\n",
       "      <td>WWW.GOB.MX</td>\n",
       "      <td>Fijo</td>\n",
       "      <td>22.167778</td>\n",
       "      <td>-102.345556</td>\n",
       "      <td>2010-07</td>\n",
       "    </tr>\n",
       "    <tr>\n",
       "      <th>3</th>\n",
       "      <td>6166233</td>\n",
       "      <td>01010112512000011000000000U9</td>\n",
       "      <td>G. ACUÍCOLA SANTA ROSA</td>\n",
       "      <td>NaN</td>\n",
       "      <td>112512</td>\n",
       "      <td>Piscicultura y otra acuicultura, excepto camar...</td>\n",
       "      <td>6 a 10 personas</td>\n",
       "      <td>CARRETERA</td>\n",
       "      <td>SECTOR DE PRODUCCION N0 1 TERREMOTO EL LLANO A...</td>\n",
       "      <td>CARRETERA</td>\n",
       "      <td>...</td>\n",
       "      <td>Santa Rosa [Granja Acuícola]</td>\n",
       "      <td>0069</td>\n",
       "      <td>800</td>\n",
       "      <td>NaN</td>\n",
       "      <td>NaN</td>\n",
       "      <td>NaN</td>\n",
       "      <td>Fijo</td>\n",
       "      <td>21.956298</td>\n",
       "      <td>-101.997312</td>\n",
       "      <td>2014-12</td>\n",
       "    </tr>\n",
       "    <tr>\n",
       "      <th>4</th>\n",
       "      <td>6166234</td>\n",
       "      <td>01003112512000031001000000U7</td>\n",
       "      <td>GRANJA ACUICOLA ARROYO DE LOS CABALLOS</td>\n",
       "      <td>NaN</td>\n",
       "      <td>112512</td>\n",
       "      <td>Piscicultura y otra acuicultura, excepto camar...</td>\n",
       "      <td>0 a 5 personas</td>\n",
       "      <td>PROLONGACION</td>\n",
       "      <td>CUAUHTUMOC</td>\n",
       "      <td>CARRETERA</td>\n",
       "      <td>...</td>\n",
       "      <td>Arroyo Ojocalientillo</td>\n",
       "      <td>0100</td>\n",
       "      <td>2</td>\n",
       "      <td>4492741517</td>\n",
       "      <td>MARTINSAU2720@HOTMAIL.COM</td>\n",
       "      <td>NaN</td>\n",
       "      <td>Fijo</td>\n",
       "      <td>21.837255</td>\n",
       "      <td>-102.710931</td>\n",
       "      <td>2014-12</td>\n",
       "    </tr>\n",
       "  </tbody>\n",
       "</table>\n",
       "<p>5 rows × 42 columns</p>\n",
       "</div>"
      ],
      "text/plain": [
       "        id                          clee  \\\n",
       "0  6862345  01001115119000031001000000U2   \n",
       "1  6905212  01001115119000041000000000U1   \n",
       "2  6166248  01007112512000012001000000U8   \n",
       "3  6166233  01010112512000011000000000U9   \n",
       "4  6166234  01003112512000031001000000U7   \n",
       "\n",
       "                                nom_estab  \\\n",
       "0         AGROPECUARIA CHARCOS DE QUEZADA   \n",
       "1               AGROPECUARIO LOS ALAMITOS   \n",
       "2     CENTRO ACUÍCOLA PABELLON DE HIDALGO   \n",
       "3                  G. ACUÍCOLA SANTA ROSA   \n",
       "4  GRANJA ACUICOLA ARROYO DE LOS CABALLOS   \n",
       "\n",
       "                                          raz_social  codigo_act  \\\n",
       "0  AGROPECUARIA CHARCOS DE QUEZADA SOCIEDAD DE PR...      115119   \n",
       "1                                                NaN      115119   \n",
       "2                                           SAGARPA       112512   \n",
       "3                                                NaN      112512   \n",
       "4                                                NaN      112512   \n",
       "\n",
       "                                          nombre_act          per_ocu  \\\n",
       "0    Otros servicios relacionados con la agricultura  6 a 10 personas   \n",
       "1    Otros servicios relacionados con la agricultura   0 a 5 personas   \n",
       "2  Piscicultura y otra acuicultura, excepto camar...   0 a 5 personas   \n",
       "3  Piscicultura y otra acuicultura, excepto camar...  6 a 10 personas   \n",
       "4  Piscicultura y otra acuicultura, excepto camar...   0 a 5 personas   \n",
       "\n",
       "      tipo_vial                                           nom_vial tipo_v_e_1  \\\n",
       "0       AVENIDA                                        UNIVERSIDAD      CALLE   \n",
       "1         CALLE                               J. ENCARNACION PAYEN      CALLE   \n",
       "2         CALLE                                            NINGUNO      CALLE   \n",
       "3     CARRETERA  SECTOR DE PRODUCCION N0 1 TERREMOTO EL LLANO A...  CARRETERA   \n",
       "4  PROLONGACION                                         CUAUHTUMOC  CARRETERA   \n",
       "\n",
       "   ...                     localidad  ageb manzana    telefono  \\\n",
       "0  ...                Aguascalientes  0233       9  4492853716   \n",
       "1  ...                Aguascalientes  0322      18  4499960472   \n",
       "2  ...    SEMARNAT [Centro Acuícola]  0078     800         NaN   \n",
       "3  ...  Santa Rosa [Granja Acuícola]  0069     800         NaN   \n",
       "4  ...         Arroyo Ojocalientillo  0100       2  4492741517   \n",
       "\n",
       "                  correoelec         www tipoUniEco    latitud    longitud  \\\n",
       "0                        NaN         NaN       Fijo  21.906992 -102.309807   \n",
       "1                        NaN         NaN       Fijo  21.889926 -102.314009   \n",
       "2                        NaN  WWW.GOB.MX       Fijo  22.167778 -102.345556   \n",
       "3                        NaN         NaN       Fijo  21.956298 -101.997312   \n",
       "4  MARTINSAU2720@HOTMAIL.COM         NaN       Fijo  21.837255 -102.710931   \n",
       "\n",
       "   fecha_alta  \n",
       "0     2019-04  \n",
       "1     2019-11  \n",
       "2     2010-07  \n",
       "3     2014-12  \n",
       "4     2014-12  \n",
       "\n",
       "[5 rows x 42 columns]"
      ]
     },
     "execution_count": 2,
     "metadata": {},
     "output_type": "execute_result"
    }
   ],
   "source": [
    "ruta_denue_csv = \"../input_data/denue.csv\"\n",
    "try:\n",
    "    df = pd.read_csv(ruta_denue_csv, encoding=\"utf-8\")\n",
    "except UnicodeDecodeError:\n",
    "    df = pd.read_csv(ruta_denue_csv, encoding=\"latin1\")\n",
    "df.head()"
   ]
  },
  {
   "cell_type": "code",
   "execution_count": 3,
   "id": "5eece463-4bdc-4b41-a012-4391a0b8ff35",
   "metadata": {},
   "outputs": [],
   "source": [
    "df_limpio = df[[\"codigo_act\", \"latitud\", \"longitud\"]].copy()\n",
    "df_limpio[\"codigo_act\"] = df_limpio[\"codigo_act\"].astype(str).str[:2]"
   ]
  },
  {
   "cell_type": "code",
   "execution_count": 4,
   "id": "ac9be1c6-e52e-48bf-b6c1-00513f4d9842",
   "metadata": {},
   "outputs": [
    {
     "name": "stdout",
     "output_type": "stream",
     "text": [
      "Valores nulos por columna:\n"
     ]
    },
    {
     "data": {
      "text/plain": [
       "codigo_act    0\n",
       "latitud       0\n",
       "longitud      0\n",
       "dtype: int64"
      ]
     },
     "execution_count": 4,
     "metadata": {},
     "output_type": "execute_result"
    }
   ],
   "source": [
    "print(\"Valores nulos por columna:\")\n",
    "df_limpio.isnull().sum()"
   ]
  },
  {
   "cell_type": "code",
   "execution_count": 5,
   "id": "d88ee774-2a2b-4fc9-9599-d929436f681b",
   "metadata": {},
   "outputs": [
    {
     "data": {
      "text/plain": [
       "codigo_act     object\n",
       "latitud       float64\n",
       "longitud      float64\n",
       "dtype: object"
      ]
     },
     "execution_count": 5,
     "metadata": {},
     "output_type": "execute_result"
    }
   ],
   "source": [
    "df_limpio.dtypes"
   ]
  },
  {
   "cell_type": "code",
   "execution_count": 13,
   "id": "e6c0e337-4f51-4da1-b7e6-acfc5554f722",
   "metadata": {},
   "outputs": [
    {
     "data": {
      "text/plain": [
       "['01', '02', '03', '04', '05', '06', '07', '08', '09', '10', '11', '12', '8A']"
      ]
     },
     "execution_count": 13,
     "metadata": {},
     "output_type": "execute_result"
    }
   ],
   "source": [
    "sentinel_files = [str(x) if x >= 10 else \"0\"+str(x)  for x in range(1,13)]\n",
    "sentinel_files.append(\"8A\")\n",
    "sentinel_base = \"../input_data/sentinel/T13QGE_20231208T172711_B\"\n",
    "sentinel_extension = \".jp2\""
   ]
  },
  {
   "cell_type": "code",
   "execution_count": 14,
   "id": "38944c0f-b1a6-4b03-93f4-facefdbbb527",
   "metadata": {},
   "outputs": [
    {
     "name": "stdout",
     "output_type": "stream",
     "text": [
      "01\n",
      "02\n",
      "03\n",
      "04\n",
      "05\n",
      "06\n",
      "07\n",
      "08\n",
      "09\n",
      "10\n",
      "11\n",
      "12\n",
      "8A\n"
     ]
    }
   ],
   "source": [
    "for sentinel_file in sentinel_files:\n",
    "    print(sentinel_file)\n",
    "    #ruta_landsat_tiff = \"../input_data/sentinel/T13QGE_20231208T172711_B02.jp2\"\n",
    "    current_sentinel = sentinel_base + sentinel_file + sentinel_extension\n",
    "    with rasterio.open(current_sentinel, driver=\"JP2OpenJPEG\") as src:\n",
    "        srs_raster = src.crs.to_proj4()\n",
    "\n",
    "        # Crear columna \"geometry\" utilizando latitud y longitud\n",
    "        df_limpio[\"geometry_\"+sentinel_file] = [Point(xy) for xy in zip(df_limpio[\"longitud\"], df_limpio[\"latitud\"])]\n",
    "\n",
    "        # Convertir el DataFrame de pandas en un GeoDataFrame de GeoPandas\n",
    "        gdf = gpd.GeoDataFrame(df_limpio, geometry=\"geometry\")"
   ]
  },
  {
   "cell_type": "code",
   "execution_count": null,
   "id": "54e42802-09c5-4214-b2bb-cd9e563e37b1",
   "metadata": {},
   "outputs": [],
   "source": [
    "with rasterio.open(ruta_landsat_tiff, driver=\"JP2OpenJPEG\") as src:\n",
    "    srs_raster = src.crs.to_proj4()"
   ]
  },
  {
   "cell_type": "code",
   "execution_count": null,
   "id": "635faefd-6e3b-464f-af32-f40fc672735e",
   "metadata": {},
   "outputs": [],
   "source": [
    "# Crear columna \"geometry\" utilizando latitud y longitud\n",
    "df_limpio[\"geometry\"] = [Point(xy) for xy in zip(df_limpio[\"longitud\"], df_limpio[\"latitud\"])]\n",
    "\n",
    "# Convertir el DataFrame de pandas en un GeoDataFrame de GeoPandas\n",
    "gdf = gpd.GeoDataFrame(df_limpio, geometry=\"geometry\")\n",
    "srs_gdf = \"+proj=longlat +ellps=WGS84 +datum=WGS84 +no_defs\"\n",
    "transformador = Transformer.from_proj(Proj(srs_gdf), Proj(srs_raster))\n",
    "gdf[\"geometry2\"] = gdf[\"geometry\"].apply(lambda geom: Point(transformador.transform(geom.x, geom.y)))\n",
    "gdf.head()"
   ]
  },
  {
   "cell_type": "code",
   "execution_count": null,
   "id": "877645cc-48e6-4352-998a-1563655c4c3c",
   "metadata": {},
   "outputs": [],
   "source": [
    "# Abre el archivo GeoTIFF con rasterio\n",
    "with rasterio.open(ruta_landsat_tiff, driver=\"JP2OpenJPEG\") as src:\n",
    "    # Itera sobre los puntos del GeoDataFrame y obtiene los valores de los pixeles correspondientes\n",
    "    for index, row in gdf.iterrows():\n",
    "        gdf.loc[index, [\"col_pixel\", \"row_pixel\"]] = src.index(row[\"geometry2\"].x, row[\"geometry2\"].y)\n"
   ]
  },
  {
   "cell_type": "code",
   "execution_count": null,
   "id": "8550eabc-ba50-48cd-a861-47ae285d3cc1",
   "metadata": {},
   "outputs": [],
   "source": [
    "gdf"
   ]
  },
  {
   "cell_type": "code",
   "execution_count": null,
   "id": "2e393f03-af3d-47c0-b410-6306dd53ae0c",
   "metadata": {},
   "outputs": [],
   "source": [
    "gdf_cp = gdf.copy()"
   ]
  },
  {
   "cell_type": "code",
   "execution_count": null,
   "id": "54c63456-f37e-496b-afd9-ebccf07ded60",
   "metadata": {},
   "outputs": [],
   "source": [
    "dups = gdf_cp[gdf_cp.duplicated(subset=[\"col_pixel\", \"row_pixel\"], keep=False) == True]"
   ]
  },
  {
   "cell_type": "code",
   "execution_count": null,
   "id": "cd58c7cb-5901-432b-bcf0-e4817374fb8a",
   "metadata": {},
   "outputs": [],
   "source": [
    "pd.set_option('display.max_rows', None)\n",
    "dups = dups.groupby([\"col_pixel\", \"row_pixel\"],as_index=False).size()"
   ]
  },
  {
   "cell_type": "code",
   "execution_count": null,
   "id": "4eb0b24c-2cf0-418f-8c58-eb4b4a2d4bad",
   "metadata": {},
   "outputs": [],
   "source": [
    "dups.sort_values([\"size\"], ascending=False)"
   ]
  },
  {
   "cell_type": "code",
   "execution_count": null,
   "id": "338ee532-57bc-418c-9f1b-96e78e22e641",
   "metadata": {},
   "outputs": [],
   "source": [
    "dups[\"size\"].sum()"
   ]
  },
  {
   "cell_type": "code",
   "execution_count": null,
   "id": "ebdb58e2-d4b0-4aab-abdb-29fbcef6ceb1",
   "metadata": {},
   "outputs": [],
   "source": [
    "gdf.iloc[[916]]"
   ]
  },
  {
   "cell_type": "code",
   "execution_count": null,
   "id": "e4a76156-3d98-4ade-aec0-165afe181066",
   "metadata": {},
   "outputs": [],
   "source": [
    "gdf.query(\"col_pixel == 1292 and row_pixel == 1321\")"
   ]
  },
  {
   "cell_type": "code",
   "execution_count": null,
   "id": "4e5a9b6f-fb65-4716-95df-64606a10c509",
   "metadata": {},
   "outputs": [],
   "source": []
  }
 ],
 "metadata": {
  "kernelspec": {
   "display_name": "Python 3 (ipykernel)",
   "language": "python",
   "name": "python3"
  },
  "language_info": {
   "codemirror_mode": {
    "name": "ipython",
    "version": 3
   },
   "file_extension": ".py",
   "mimetype": "text/x-python",
   "name": "python",
   "nbconvert_exporter": "python",
   "pygments_lexer": "ipython3",
   "version": "3.11.0rc1"
  }
 },
 "nbformat": 4,
 "nbformat_minor": 5
}
